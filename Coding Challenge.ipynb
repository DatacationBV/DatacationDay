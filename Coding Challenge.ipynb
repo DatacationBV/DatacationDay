{
 "cells": [
  {
   "cell_type": "markdown",
   "metadata": {},
   "source": [
    "### Welcome to the Datacation Bootcamp!\n",
    "\n",
    "Today, we present a coding challenge to you.\n",
    "In this challenge, you will be given two brain tumor dataset. A train and a test dataset.\n",
    "The target variable has been removed from the test dataset. You will try different Machine Learning models and\n",
    "use your best model to predict whether patients have a brain tumor or not.\n",
    "\n",
    "Try to get as far as possible in the following exercises, increasing in difficulty:\n",
    "\n",
    "1. Loading the training set train_brain.csv and split the training set in a training and validation set, then preprocess the data. Options include:\n",
    "    - imputing missing values\n",
    "    - one-hot-encoding categorical values\n",
    "    - scaling the data\n",
    "2. Implement the machine learning model called the Support Vector Machine (SVM) and optimize based on the validation accuracy.\n",
    "3. Visualize the SVM accuracy results in a graph.\n",
    "4. Use a grid search to find the optimal hyperparameters of the SVM, KNN and RandomForest models using 3-fold cross validation.\n",
    "5. Visualize the SVM, KNN and RandomForest accuracy results in a heatmap.\n",
    "6. Implement a Neural Network and visualize the loss and accuracy, both for the test and training dataset.\n",
    "7. Apply any type of model and preprocessing steps necessary to achieve the highest possible validation accuracy.\n",
    "8. Use the test_brain.csv dataset to predict whether the patients have a brain tumor or not. The target variable has been removed from the dataset.\n",
    "   Save the prediction results in a list with the same order as the patients in the test dataset.\n",
    "   Use the given code to store the list as .pkl file and save it using your group number.\n",
    "   Finally, do a push request to the github repository. We will calculate your final accuracy score.\n"
   ]
  },
  {
   "cell_type": "code",
   "execution_count": 1,
   "metadata": {},
   "outputs": [],
   "source": [
    "import pandas as pd\n",
    "import numpy as np\n",
    "from sklearn.model_selection import train_test_split, cross_validate, GridSearchCV, StratifiedKFold\n",
    "from sklearn.impute import SimpleImputer\n",
    "from sklearn.preprocessing import StandardScaler, OneHotEncoder\n",
    "from category_encoders import TargetEncoder\n",
    "from sklearn.svm import SVC\n",
    "from sklearn.ensemble import RandomForestClassifier\n",
    "from sklearn.neighbors import KNeighborsClassifier\n",
    "from sklearn.metrics import accuracy_score\n",
    "from tqdm import tqdm\n",
    "from sklearn.compose import make_column_transformer\n",
    "from sklearn.pipeline import make_pipeline\n",
    "\n",
    "import seaborn as sns\n",
    "import matplotlib.pyplot as plt"
   ]
  },
  {
   "cell_type": "code",
   "execution_count": 12,
   "metadata": {},
   "outputs": [
    {
     "name": "stderr",
     "output_type": "stream",
     "text": [
      "c:\\users\\20191685\\appdata\\local\\programs\\python\\python38\\lib\\site-packages\\category_encoders\\utils.py:21: FutureWarning: is_categorical is deprecated and will be removed in a future version.  Use is_categorical_dtype instead\n",
      "  elif pd.api.types.is_categorical(cols):\n"
     ]
    }
   ],
   "source": [
    "######################################   EXERCISE 1   ######################################\n",
    "'''\n",
    "Loading the training set train_brain.csv and split the training set in a training and validation set, then preprocess the data. Options include:\n",
    "    - imputing missing values\n",
    "    - one-hot-encoding categorical values\n",
    "    - scaling the data\n",
    "'''\n",
    "# Read in the dataset: (https://pandas.pydata.org/docs/reference/api/pandas.read_csv.html)\n",
    "train_data = pd.read_csv('train_brain.csv')\n",
    "data_columns = train_data.columns\n",
    "\n",
    "# Split the training set in a train and validation set, use random_state = 0: (https://scikit-learn.org/stable/modules/generated/sklearn.model_selection.train_test_split.html)\n",
    "y = train_data['target'].to_numpy()\n",
    "X = train_data[[column for column in data_columns if column != 'target']]\n",
    "\n",
    "X_train, X_val, y_train, y_val = train_test_split(X, y, test_size=0.33, random_state=0)\n",
    "\n",
    "# The list of the names of all categorical and numerical features\n",
    "categorical = X.select_dtypes(include=[\"O\"]).columns.tolist()\n",
    "numerical = X.select_dtypes(exclude=[\"O\"]).columns.tolist()\n",
    "\n",
    "# # Impute missing values: (https://scikit-learn.org/stable/modules/generated/sklearn.impute.SimpleImputer.html)\n",
    "## Impute missing numerical values\n",
    "imp_num = SimpleImputer(missing_values=np.nan, strategy='mean')\n",
    "X_train_numeric = imp_num.fit_transform(X_train[numerical])\n",
    "X_val_numeric = imp_num.transform(X_val[numerical])\n",
    "\n",
    "## Impute missing categorical values\n",
    "imp_cat = SimpleImputer(missing_values=np.nan, strategy='most_frequent')\n",
    "X_train_categorical = imp_cat.fit_transform(X_train[categorical])\n",
    "X_val_categorical = imp_cat.transform(X_val[categorical])\n",
    "\n",
    "# # One hot encode categorical values\n",
    "# onehot = OneHotEncoder(sparse=False, handle_unknown='ignore')\n",
    "# X_train_categorical = onehot.fit_transform(X_train_categorical)\n",
    "# X_train_categorical = onehot.fit_transform(X_train_categorical)\n",
    "\n",
    "# Target encode categorical values\n",
    "target_enc = TargetEncoder()\n",
    "X_train_categorical = target_enc.fit_transform(X_train_categorical, y_train)\n",
    "X_val_categorical = target_enc.transform(X_val_categorical, y_val)\n",
    "\n",
    "# Scale numerical columns: (https://scikit-learn.org/stable/modules/generated/sklearn.preprocessing.StandardScaler.html)\n",
    "standard_scaler = StandardScaler()\n",
    "X_train_numeric = standard_scaler.fit_transform(X_train_numeric)\n",
    "X_val_numeric = standard_scaler.transform(X_val_numeric)\n",
    "\n",
    "# Rejoin two numpy arrays to create a single dataset\n",
    "X_train = np.concatenate((X_train_numeric, X_train_categorical), axis=1)\n",
    "X_val = np.concatenate((X_val_numeric, X_val_categorical), axis=1)"
   ]
  },
  {
   "cell_type": "code",
   "execution_count": 13,
   "metadata": {},
   "outputs": [],
   "source": [
    "X_train_s, _, y_train_s, _ = train_test_split(X_train, y_train, test_size=0.9, stratify=y_train, random_state=0)"
   ]
  },
  {
   "cell_type": "code",
   "execution_count": 5,
   "metadata": {},
   "outputs": [],
   "source": [
    "######################################   EXERCISE 2   ######################################\n",
    "'''\n",
    "Implement the machine learning model called the Support Vector Machine (SVM) and optimize based on the validation accuracy.\n",
    "'''\n",
    "\n",
    "# Implement the Support Vector Machine: (https://scikit-learn.org/stable/modules/generated/sklearn.svm.SVC.html)\n",
    "def evaluate_SVM(X_train, y_train, X_val, y_val, C, gamma):\n",
    "    \"\"\" evaluate the SVM model with different hyper-parameter settings \"\"\"\n",
    "    # Create SVM model and train on train data\n",
    "    svc = SVC(gamma=gamma, C=C).fit(X_train, y_train)\n",
    "    \n",
    "    # Predict labels of validation data\n",
    "    y_pred = svc.predict(X_val)\n",
    "    \n",
    "    # Return accuracy of prediction\n",
    "    return accuracy_score(y_true=y_val, y_pred=y_pred)\n",
    "\n",
    "# evaluate_SVM(X_train=X_train_s,\n",
    "#              y_train=y_train_s,\n",
    "#              X_val=X_val,\n",
    "#              y_val=y_val,\n",
    "#              C=1.0,\n",
    "#              gamma=\"scale\")"
   ]
  },
  {
   "cell_type": "code",
   "execution_count": 9,
   "metadata": {},
   "outputs": [
    {
     "name": "stderr",
     "output_type": "stream",
     "text": [
      "100%|██████████████████████████████████████████████████████████████████████████████████| 10/10 [01:26<00:00,  8.69s/it]\n"
     ]
    }
   ],
   "source": [
    "######################################   EXERCISE 3   ######################################\n",
    "'''\n",
    "Visualize the SVM accuracy results in a graph.\n",
    "'''\n",
    "\n",
    "# Visualize the SVM results: (https://matplotlib.org/stable/api/_as_gen/matplotlib.pyplot.html)\n",
    "# First optimize C value\n",
    "C_range = np.logspace(-5, 5, num=10)\n",
    "C_values = []\n",
    "accuracies_C = []\n",
    "for c in tqdm(C_range):\n",
    "    C_values.append(c)\n",
    "    accuracies_C.append(evaluate_SVM(X_train=X_train_s,\n",
    "                                     y_train=y_train_s,\n",
    "                                     X_val=X_val,\n",
    "                                     y_val=y_val,\n",
    "                                     C=c,\n",
    "                                     gamma=\"scale\"))"
   ]
  },
  {
   "cell_type": "code",
   "execution_count": 14,
   "metadata": {},
   "outputs": [
    {
     "name": "stderr",
     "output_type": "stream",
     "text": [
      "100%|██████████████████████████████████████████████████████████████████████████████████| 10/10 [00:37<00:00,  3.76s/it]\n"
     ]
    }
   ],
   "source": [
    "# Retrieve optimal C value\n",
    "optimal_C = C_values[np.argmax(np.array(accuracies_C))]\n",
    "\n",
    "gamma_range = np.logspace(-5, 5, num=10)\n",
    "gamma_values = []\n",
    "accuracies_gamma = []\n",
    "for g in tqdm(gamma_range):\n",
    "    gamma_values.append(g)\n",
    "    accuracies_gamma.append(evaluate_SVM(X_train=X_train_s,\n",
    "                                     y_train=y_train_s,\n",
    "                                     X_val=X_val,\n",
    "                                     y_val=y_val,\n",
    "                                     C=optimal_C,\n",
    "                                     gamma=g))"
   ]
  },
  {
   "cell_type": "code",
   "execution_count": 18,
   "metadata": {},
   "outputs": [
    {
     "name": "stdout",
     "output_type": "stream",
     "text": [
      "Optimal setting: C = 1e-05, gamma = 1e-05\n"
     ]
    }
   ],
   "source": [
    "# Retrieve optimal gamma value\n",
    "optimal_gamma = gamma_values[np.argmax(np.array(accuracies_gamma))]\n",
    "\n",
    "# Print optimal settings\n",
    "print(f'Optimal setting: C = {optimal_C}, gamma = {optimal_gamma}')"
   ]
  },
  {
   "cell_type": "code",
   "execution_count": 10,
   "metadata": {},
   "outputs": [],
   "source": [
    "def simple_pipeline(X, clf):\n",
    "    # Pipeline for categorical features\n",
    "    cat_pipe = make_pipeline(SimpleImputer(strategy='most_frequent'), TargetEncoder())\n",
    "    # Pipeline for numerical features\n",
    "    num_pipe = make_pipeline(SimpleImputer(strategy='mean'))\n",
    "    # Column transformer for both types of features. We use 'remainder' for the numerical ones.\n",
    "    categorical = X.select_dtypes(include=[\"O\"]).columns.tolist()\n",
    "    transform = make_column_transformer((cat_pipe, categorical), remainder=num_pipe)\n",
    "    \n",
    "    return make_pipeline(transform, clf)\n",
    "\n",
    "def heatmap(columns, rows, scores, xlabel=None, ylabel=None):\n",
    "    \"\"\" Plot Heatmap of the obtained accuracy scores \"\"\"\n",
    "    df = pd.DataFrame(scores, index=rows, columns=columns)\n",
    "    sns.heatmap(df, cmap='Greens', linewidths=0.5, annot=True, fmt=\".3f\")\n",
    "    plt.xlabel(xlabel)\n",
    "    plt.ylabel(ylabel)"
   ]
  },
  {
   "cell_type": "code",
   "execution_count": null,
   "metadata": {},
   "outputs": [],
   "source": [
    "######################################   EXERCISE 4   ######################################\n",
    "'''\n",
    "Use a grid search to find the optimal hyperparameters of the SVM, KNN and RandomForest models using 3-fold cross validation.\n",
    "'''\n",
    "\n",
    "# Make use of GridSearchCV: https://scikit-learn.org/stable/modules/generated/sklearn.model_selection.GridSearchCV.html\n",
    "# KNN: https://scikit-learn.org/stable/modules/generated/sklearn.neighbors.KNeighborsClassifier.html\n",
    "# RandomForest: https://scikit-learn.org/stable/modules/generated/sklearn.ensemble.RandomForestClassifier.html\n",
    "\n",
    "# Get subset of complete dataset\n",
    "Xs, _, ys, _ = train_test_split(X, y, test_size=0.99, stratify=y)\n",
    "\n",
    "# Set param grid\n",
    "param_grid = {'svc__C': [0.1, 1, 10, 100, 1000],\n",
    "              'svc__gamma': [0.0001, 0.001, 0.01, 0.1, 1]}\n",
    "\n",
    "# Create simple pipeline\n",
    "pipeline = simple_pipeline(X=Xs, clf=SVC())\n",
    "cvs = StratifiedKFold(n_splits=3, shuffle=True, random_state=0)\n",
    "grid = GridSearchCV(pipeline, param_grid=param_grid, cv=cvs, n_jobs=-1, scoring='roc_auc').fit(X,y)\n",
    "\n",
    "scores = grid.cv_results_['mean_test_score'].reshape(5, -1)\n",
    "    \n",
    "heatmap(param_grid['svc__C'], param_grid['svc__gamma'], scores, 'C','gamma')\n"
   ]
  },
  {
   "cell_type": "code",
   "execution_count": 4,
   "metadata": {},
   "outputs": [
    {
     "name": "stderr",
     "output_type": "stream",
     "text": [
      "c:\\users\\20191685\\appdata\\local\\programs\\python\\python38\\lib\\site-packages\\category_encoders\\utils.py:21: FutureWarning: is_categorical is deprecated and will be removed in a future version.  Use is_categorical_dtype instead\n",
      "  elif pd.api.types.is_categorical(cols):\n"
     ]
    },
    {
     "data": {
      "image/png": "[encoded data removed]",
      "text/plain": [
       "<Figure size 432x288 with 2 Axes>"
      ]
     },
     "metadata": {
      "needs_background": "light"
     },
     "output_type": "display_data"
    }
   ],
   "source": [
    "######################################   EXERCISE 4   ######################################\n",
    "'''\n",
    "Use a grid search to find the optimal hyperparameters of the SVM, KNN and RandomForest models using 3-fold cross validation.\n",
    "'''\n",
    "\n",
    "# Make use of GridSearchCV: https://scikit-learn.org/stable/modules/generated/sklearn.model_selection.GridSearchCV.html\n",
    "# KNN: https://scikit-learn.org/stable/modules/generated/sklearn.neighbors.KNeighborsClassifier.html\n",
    "# RandomForest: https://scikit-learn.org/stable/modules/generated/sklearn.ensemble.RandomForestClassifier.html\n",
    "\n",
    "# Get subset of complete dataset\n",
    "Xs, _, ys, _ = train_test_split(X, y, test_size=0.99, stratify=y)\n",
    "\n",
    "# Set param grid\n",
    "param_grid = {'randomforestclassifier__n_estimators': [10, 100, 500, 1000],\n",
    "              'randomforestclassifier__max_depth': [2, 3, 4, 5]}\n",
    "\n",
    "# Create simple pipeline\n",
    "pipeline = simple_pipeline(X=Xs, clf=RandomForestClassifier())\n",
    "cvs = StratifiedKFold(n_splits=3, shuffle=True, random_state=0)\n",
    "grid = GridSearchCV(pipeline, param_grid=param_grid, cv=cvs, n_jobs=-1, scoring='roc_auc').fit(X,y)\n",
    "\n",
    "scores = grid.cv_results_['mean_test_score'].reshape(4, -1)\n",
    "    \n",
    "heatmap(param_grid['randomforestclassifier__n_estimators'], param_grid['randomforestclassifier__max_depth'], scores, 'n_estimators','max_depth')"
   ]
  },
  {
   "cell_type": "code",
   "execution_count": null,
   "metadata": {},
   "outputs": [],
   "source": [
    "######################################   EXERCISE 5   ######################################\n",
    "'''\n",
    "Visualize the SVM, KNN and RandomForest accuracy results in a heatmap.\n",
    "'''\n",
    "\n",
    "# Make us of a heatmap: https://seaborn.pydata.org/generated/seaborn.heatmap.html\n",
    "\n"
   ]
  },
  {
   "cell_type": "code",
   "execution_count": 6,
   "metadata": {},
   "outputs": [
    {
     "name": "stdout",
     "output_type": "stream",
     "text": [
      "0.7185250109559882\n"
     ]
    }
   ],
   "source": [
    "######################################   EXERCISE 6   ######################################\n",
    "'''\n",
    "Implement a basic Neural Network and visualize the loss and accuracy, both for the test and training dataset.\n",
    "'''\n",
    "\n",
    "from sklearn.neural_network import MLPClassifier\n",
    "\n",
    "X_train_s, _, y_train_s, _ = train_test_split(X_train, y_train, test_size=0.9, stratify=y_train, random_state=0)\n",
    "\n",
    "# Make use of the MLPClassifier: https://scikit-learn.org/stable/modules/generated/sklearn.neural_network.MLPClassifier.html#sklearn.neural_network.MLPClassifier\n",
    "clf = MLPClassifier(random_state=0, max_iter=300, hidden_layer_sizes=256).fit(X_train_s, y_train_s)\n",
    "\n",
    "y_pred = clf.predict(X_val)\n",
    "\n",
    "score = accuracy_score(y_true=y_val, y_pred=y_pred)\n",
    "\n",
    "print(score)\n"
   ]
  },
  {
   "cell_type": "code",
   "execution_count": 16,
   "metadata": {},
   "outputs": [],
   "source": [
    "test_data = pd.read_csv('test_brain.csv')"
   ]
  },
  {
   "cell_type": "code",
   "execution_count": 19,
   "metadata": {},
   "outputs": [],
   "source": [
    "# The list of the names of all categorical and numerical features\n",
    "categorical = test_data.select_dtypes(include=[\"O\"]).columns.tolist()\n",
    "numerical = test_data.select_dtypes(exclude=[\"O\"]).columns.tolist()\n",
    "\n",
    "# # Impute missing values: (https://scikit-learn.org/stable/modules/generated/sklearn.impute.SimpleImputer.html)\n",
    "## Impute missing numerical values\n",
    "X_num = imp_num.transform(test_data[numerical])\n",
    "\n",
    "## Impute missing categorical values\n",
    "X_cat = imp_cat.transform(test_data[categorical])\n",
    "\n",
    "# # One hot encode categorical values\n",
    "# onehot = OneHotEncoder(sparse=False, handle_unknown='ignore')\n",
    "# X_train_categorical = onehot.fit_transform(X_train_categorical)\n",
    "# X_train_categorical = onehot.fit_transform(X_train_categorical)\n",
    "\n",
    "# Target encode categorical values\n",
    "X_cat = target_enc.transform(X_cat)\n",
    "\n",
    "# Scale numerical columns: (https://scikit-learn.org/stable/modules/generated/sklearn.preprocessing.StandardScaler.html)\n",
    "X_num = standard_scaler.transform(X_num)\n",
    "\n",
    "# Rejoin two numpy arrays to create a single dataset\n",
    "X = np.concatenate((X_num, X_cat), axis=1)"
   ]
  },
  {
   "cell_type": "code",
   "execution_count": 28,
   "metadata": {},
   "outputs": [],
   "source": [
    "from imblearn.over_sampling import RandomOverSampler\n",
    "from imblearn.under_sampling import RandomUnderSampler\n",
    "from imblearn.pipeline import Pipeline as imb_Pipeline\n",
    "\n",
    "def sample_pipeline(ros, rus):\n",
    "    \"\"\" Return pipeline for up- and downsampling of the training data \"\"\"\n",
    "    return imb_Pipeline(steps=[('o', ros), ('u', rus)])\n",
    "\n",
    "rand_oversampler = RandomOverSampler(sampling_strategy=0.6, random_state=0)\n",
    "rand_undersampler = RandomUnderSampler(sampling_strategy=0.8, random_state=0)\n",
    "\n",
    "# Create pipeline\n",
    "sample = sample_pipeline(ros=rand_oversampler, rus=rand_undersampler)"
   ]
  },
  {
   "cell_type": "code",
   "execution_count": 29,
   "metadata": {},
   "outputs": [],
   "source": [
    "X_train_s, y_train_s = sample.fit_resample(X_train_s, y_train_s)"
   ]
  },
  {
   "cell_type": "code",
   "execution_count": 36,
   "metadata": {},
   "outputs": [],
   "source": [
    "######################################   EXERCISE 7   ######################################\n",
    "'''\n",
    "Apply any type of model and preprocessing steps necessary to achieve the highest possible validation accuracy.\n",
    "'''\n",
    "\n",
    "# svc = SVC(gamma=1e-5, C=1e-5).fit(X_train_s, y_train_s)\n",
    "rf = RandomForestClassifier(n_estimators=100, max_depth=4).fit(X_train_s, y_train_s)\n"
   ]
  },
  {
   "cell_type": "code",
   "execution_count": 37,
   "metadata": {},
   "outputs": [],
   "source": [
    "y_pred = rf.predict(X)"
   ]
  },
  {
   "cell_type": "code",
   "execution_count": 42,
   "metadata": {},
   "outputs": [],
   "source": [
    "######################################   EXERCISE 8   ######################################\n",
    "'''\n",
    "Time to predict using your best ML model!\n",
    "Use the test_brain.csv dataset to predict whether the patients have a brain tumor or not. The target variable has been removed from the dataset.\n",
    "Save the prediction results in a list with the same order as the patients in the test dataset.\n",
    "Use the below given code to store the list as .pkl file and save it using your group number.\n",
    "Finally, do a push request to the github repository. We will calculate your final accuracy score.\n",
    "'''\n",
    "\n",
    "import pickle\n",
    "\n",
    "group_number = 5\n",
    "ypred = y_pred\n",
    "\n",
    "with open(f'test_predictions_group_{group_number}.pkl', 'wb') as f:\n",
    "    pickle.dump(ypred, f)"
   ]
  },
  {
   "cell_type": "code",
   "execution_count": null,
   "metadata": {},
   "outputs": [],
   "source": []
  }
 ],
 "metadata": {
  "kernelspec": {
   "display_name": "Python 3",
   "language": "python",
   "name": "python3"
  },
  "language_info": {
   "codemirror_mode": {
    "name": "ipython",
    "version": 3
   },
   "file_extension": ".py",
   "mimetype": "text/x-python",
   "name": "python",
   "nbconvert_exporter": "python",
   "pygments_lexer": "ipython3",
   "version": "3.8.3"
  }
 },
 "nbformat": 4,
 "nbformat_minor": 4
}
